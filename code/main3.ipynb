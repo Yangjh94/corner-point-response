{
 "cells": [
  {
   "cell_type": "markdown",
   "id": "62de65d1",
   "metadata": {},
   "source": [
    "# 程序说明：\n",
    "1. 对main2.py计算得到的节点位移和加速度结果进行统计分析和展示\n",
    "   - 01"
   ]
  },
  {
   "cell_type": "markdown",
   "id": "431d2d4a",
   "metadata": {},
   "source": []
  }
 ],
 "metadata": {
  "kernelspec": {
   "display_name": "pytorch_cuda",
   "language": "python",
   "name": "python3"
  },
  "language_info": {
   "name": "python",
   "version": "3.11.8"
  }
 },
 "nbformat": 4,
 "nbformat_minor": 5
}
