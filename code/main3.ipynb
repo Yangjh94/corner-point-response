{
 "cells": [
  {
   "cell_type": "markdown",
   "id": "62de65d1",
   "metadata": {},
   "source": [
    "# 程序说明：\n",
    "1. 对main2.py计算得到的节点位移和加速度结果进行统计分析和展示\n",
    "   - 01"
   ]
  },
  {
   "cell_type": "code",
   "execution_count": 5,
   "id": "431d2d4a",
   "metadata": {},
   "outputs": [
    {
     "name": "stdout",
     "output_type": "stream",
     "text": [
      "output 文件夹中的文件名称:\n",
      "Model2_10yr_000\n",
      "Model2_10yr_005\n",
      "Model2_10yr_010\n",
      "Model2_10yr_020\n"
     ]
    }
   ],
   "source": [
    "import os\n",
    "\n",
    "# 指定 output文件路径\n",
    "output_folder = os.path.join(os.getcwd(), \"output\")\n",
    "\n",
    "# 获取文件夹中的所有文件名称\n",
    "file_names = os.listdir(output_folder)\n",
    "\n",
    "# 输出文件名称列表\n",
    "print(\"output 文件夹中的文件名称:\")\n",
    "for file_name in file_names:\n",
    "    print(file_name)"
   ]
  }
 ],
 "metadata": {
  "kernelspec": {
   "display_name": "pytorch_cuda",
   "language": "python",
   "name": "python3"
  },
  "language_info": {
   "codemirror_mode": {
    "name": "ipython",
    "version": 3
   },
   "file_extension": ".py",
   "mimetype": "text/x-python",
   "name": "python",
   "nbconvert_exporter": "python",
   "pygments_lexer": "ipython3",
   "version": "3.11.8"
  }
 },
 "nbformat": 4,
 "nbformat_minor": 5
}
